{
 "cells": [
  {
   "cell_type": "code",
   "execution_count": 7,
   "id": "f8e3d2ce-9bae-49c2-baea-605babc023be",
   "metadata": {
    "tags": []
   },
   "outputs": [
    {
     "name": "stdout",
     "output_type": "stream",
     "text": [
      "/Users/saurabh/Desktop/MSCS/CSC522/Project\n"
     ]
    }
   ],
   "source": [
    "!pwd"
   ]
  },
  {
   "cell_type": "code",
   "execution_count": 8,
   "id": "7e7f5bc8-95f9-4422-b275-5f99c822d290",
   "metadata": {
    "tags": []
   },
   "outputs": [],
   "source": [
    "import pandas as pd\n",
    "import os"
   ]
  },
  {
   "cell_type": "code",
   "execution_count": 9,
   "id": "ec05bf1a-9bc8-4f79-9690-b193a66b86c0",
   "metadata": {
    "tags": []
   },
   "outputs": [],
   "source": [
    "# read movie_titles.csv \n",
    "column_names = ['MovieID', 'YearOfRelease', 'Title']\n",
    "data = pd.read_csv('/Users/saurabh/Downloads/archive 3/movie_titles.csv', encoding=\"ISO-8859-1\", error_bad_lines=False, header=None, names=column_names)"
   ]
  },
  {
   "cell_type": "code",
   "execution_count": 10,
   "id": "670a0f7a-05a4-4c3b-8a04-3bd9867fa985",
   "metadata": {
    "tags": []
   },
   "outputs": [
    {
     "data": {
      "text/html": [
       "<div>\n",
       "<style scoped>\n",
       "    .dataframe tbody tr th:only-of-type {\n",
       "        vertical-align: middle;\n",
       "    }\n",
       "\n",
       "    .dataframe tbody tr th {\n",
       "        vertical-align: top;\n",
       "    }\n",
       "\n",
       "    .dataframe thead th {\n",
       "        text-align: right;\n",
       "    }\n",
       "</style>\n",
       "<table border=\"1\" class=\"dataframe\">\n",
       "  <thead>\n",
       "    <tr style=\"text-align: right;\">\n",
       "      <th></th>\n",
       "      <th>MovieID</th>\n",
       "      <th>YearOfRelease</th>\n",
       "      <th>Title</th>\n",
       "    </tr>\n",
       "  </thead>\n",
       "  <tbody>\n",
       "    <tr>\n",
       "      <th>0</th>\n",
       "      <td>1</td>\n",
       "      <td>2003.0</td>\n",
       "      <td>Dinosaur Planet</td>\n",
       "    </tr>\n",
       "    <tr>\n",
       "      <th>1</th>\n",
       "      <td>2</td>\n",
       "      <td>2004.0</td>\n",
       "      <td>Isle of Man TT 2004 Review</td>\n",
       "    </tr>\n",
       "    <tr>\n",
       "      <th>2</th>\n",
       "      <td>3</td>\n",
       "      <td>1997.0</td>\n",
       "      <td>Character</td>\n",
       "    </tr>\n",
       "    <tr>\n",
       "      <th>3</th>\n",
       "      <td>4</td>\n",
       "      <td>1994.0</td>\n",
       "      <td>Paula Abdul's Get Up &amp; Dance</td>\n",
       "    </tr>\n",
       "    <tr>\n",
       "      <th>4</th>\n",
       "      <td>5</td>\n",
       "      <td>2004.0</td>\n",
       "      <td>The Rise and Fall of ECW</td>\n",
       "    </tr>\n",
       "  </tbody>\n",
       "</table>\n",
       "</div>"
      ],
      "text/plain": [
       "   MovieID  YearOfRelease                         Title\n",
       "0        1         2003.0               Dinosaur Planet\n",
       "1        2         2004.0    Isle of Man TT 2004 Review\n",
       "2        3         1997.0                     Character\n",
       "3        4         1994.0  Paula Abdul's Get Up & Dance\n",
       "4        5         2004.0      The Rise and Fall of ECW"
      ]
     },
     "execution_count": 10,
     "metadata": {},
     "output_type": "execute_result"
    }
   ],
   "source": [
    "data.head(5)"
   ]
  },
  {
   "cell_type": "code",
   "execution_count": 11,
   "id": "6c542204-10f9-42a9-9679-aeec6986ca03",
   "metadata": {
    "tags": []
   },
   "outputs": [
    {
     "name": "stdout",
     "output_type": "stream",
     "text": [
      "netflix_data/user_ratings.csv\n",
      "netflix_data/combined_data_2.txt\n",
      "netflix_data/combined_data_3.txt\n",
      "netflix_data/combined_data_1.txt\n",
      "netflix_data/combined_data_4.txt\n"
     ]
    }
   ],
   "source": [
    "import os\n",
    "for dirname, _, filenames in os.walk('netflix_data/'):\n",
    "    for filename in filenames:\n",
    "        print(os.path.join(dirname, filename))\n",
    "import re\n",
    "import csv\n",
    "import pandas as pd"
   ]
  },
  {
   "cell_type": "code",
   "execution_count": 12,
   "id": "a1c07cfc-3914-4ac1-a905-a5584823c0a0",
   "metadata": {
    "tags": []
   },
   "outputs": [
    {
     "name": "stdout",
     "output_type": "stream",
     "text": [
      "Analyzing netflix_data/combined_data_1.txt\n",
      "CSV file created successfully.\n",
      "Analyzing netflix_data/combined_data_2.txt\n",
      "CSV file created successfully.\n",
      "Analyzing netflix_data/combined_data_3.txt\n",
      "CSV file created successfully.\n",
      "Analyzing netflix_data/combined_data_4.txt\n",
      "CSV file created successfully.\n"
     ]
    }
   ],
   "source": [
    "def process_training_data(input_files, output_file):\n",
    "    #regex patterns to identify MoveId and CustomerData\n",
    "    '''\n",
    "    Data in the form of:\n",
    "\n",
    "    MovieId:\n",
    "    CutomerId, Rating, Date\n",
    "    \n",
    "    '''\n",
    "\n",
    "    id_pattern = r'^(\\d+):\\s*$'\n",
    "    data_pattern = r'^(\\d+),\\s*([\\d.]+),\\s*(\\d{4}-\\d{2}-\\d{2})$'\n",
    "\n",
    "    with open(output_file, 'w', newline='') as out_file:\n",
    "        out_file.write('CustomerID,Rating,Date,MovieID\\n')\n",
    "\n",
    "        for file_name in input_files:\n",
    "            processed_data = []\n",
    "            current_movie_id = None\n",
    "\n",
    "            print(f\"Analyzing {file_name}\")\n",
    "\n",
    "            with open(file_name, 'r') as in_file:\n",
    "                for line in in_file:\n",
    "                    line = line.strip()\n",
    "                    match_id = re.match(id_pattern, line)\n",
    "                    match_data = re.match(data_pattern, line)\n",
    "\n",
    "                    if match_id:        \n",
    "                        current_movie_id = match_id.group(1)\n",
    "                    elif match_data:\n",
    "                        customer_id, rating, date = match_data.groups()\n",
    "                        processed_data.append(f'{customer_id},{rating},{date},{current_movie_id}\\n')\n",
    "                    else:\n",
    "                        raise Exception('Unexpected format: Missing ID or Data')\n",
    "\n",
    "            out_file.writelines(processed_data)\n",
    "            print(\"CSV file created successfully.\")\n",
    "\n",
    "# Example usage\n",
    "input_files = ['netflix_data/combined_data_1.txt', 'netflix_data/combined_data_2.txt', 'netflix_data/combined_data_3.txt', 'netflix_data/combined_data_4.txt']\n",
    "output_file = 'netflix_data/user_ratings.csv'\n",
    "\n",
    "process_training_data(input_files, output_file)"
   ]
  },
  {
   "cell_type": "code",
   "execution_count": 13,
   "id": "6fbbc391-ade1-42b3-a4ce-93f26d67f98c",
   "metadata": {
    "tags": []
   },
   "outputs": [],
   "source": [
    "data_chunks = []\n",
    "\n",
    "# Use a loop to read the CSV in chunks\n",
    "for chunk in pd.read_csv('netflix_data/user_ratings.csv', chunksize=10000):\n",
    "    data_chunks.append(chunk)\n",
    "\n",
    "# After processing all chunks, concatenating them into a single DataFrame\n",
    "final_dataframe = pd.concat(data_chunks, ignore_index=True)"
   ]
  },
  {
   "cell_type": "code",
   "execution_count": null,
   "metadata": {},
   "outputs": [],
   "source": [
    "final_dataframe_model = final_dataframe.sample(frac=0.15)\n",
    "final_dataframe_model.to_csv('final_data_15.csv')"
   ]
  },
  {
   "cell_type": "code",
   "execution_count": 8,
   "id": "9859d3f1-4edb-4031-87c1-c8dead3f2be4",
   "metadata": {
    "tags": []
   },
   "outputs": [
    {
     "data": {
      "text/html": [
       "<div>\n",
       "<style scoped>\n",
       "    .dataframe tbody tr th:only-of-type {\n",
       "        vertical-align: middle;\n",
       "    }\n",
       "\n",
       "    .dataframe tbody tr th {\n",
       "        vertical-align: top;\n",
       "    }\n",
       "\n",
       "    .dataframe thead th {\n",
       "        text-align: right;\n",
       "    }\n",
       "</style>\n",
       "<table border=\"1\" class=\"dataframe\">\n",
       "  <thead>\n",
       "    <tr style=\"text-align: right;\">\n",
       "      <th></th>\n",
       "      <th>CustomerID</th>\n",
       "      <th>Rating</th>\n",
       "      <th>Date</th>\n",
       "      <th>MovieID</th>\n",
       "    </tr>\n",
       "  </thead>\n",
       "  <tbody>\n",
       "    <tr>\n",
       "      <th>30117927</th>\n",
       "      <td>363090</td>\n",
       "      <td>4</td>\n",
       "      <td>2004-06-17</td>\n",
       "      <td>5515</td>\n",
       "    </tr>\n",
       "    <tr>\n",
       "      <th>49325077</th>\n",
       "      <td>1286407</td>\n",
       "      <td>3</td>\n",
       "      <td>2004-05-28</td>\n",
       "      <td>8872</td>\n",
       "    </tr>\n",
       "    <tr>\n",
       "      <th>32319491</th>\n",
       "      <td>640031</td>\n",
       "      <td>3</td>\n",
       "      <td>2003-09-25</td>\n",
       "      <td>5875</td>\n",
       "    </tr>\n",
       "    <tr>\n",
       "      <th>93671014</th>\n",
       "      <td>1009110</td>\n",
       "      <td>4</td>\n",
       "      <td>2005-05-18</td>\n",
       "      <td>16607</td>\n",
       "    </tr>\n",
       "    <tr>\n",
       "      <th>5596960</th>\n",
       "      <td>2329026</td>\n",
       "      <td>4</td>\n",
       "      <td>2004-03-25</td>\n",
       "      <td>1129</td>\n",
       "    </tr>\n",
       "  </tbody>\n",
       "</table>\n",
       "</div>"
      ],
      "text/plain": [
       "          CustomerID  Rating        Date  MovieID\n",
       "30117927      363090       4  2004-06-17     5515\n",
       "49325077     1286407       3  2004-05-28     8872\n",
       "32319491      640031       3  2003-09-25     5875\n",
       "93671014     1009110       4  2005-05-18    16607\n",
       "5596960      2329026       4  2004-03-25     1129"
      ]
     },
     "execution_count": 8,
     "metadata": {},
     "output_type": "execute_result"
    }
   ],
   "source": [
    "# Data Size is huge. So, it's very difficult to manage on limited hardware configuration, hence sampling 75% of the data for EDA.\n",
    "\n",
    "final_data = final_dataframe.sample(frac=0.75)\n",
    "final_data.head()"
   ]
  },
  {
   "cell_type": "code",
   "execution_count": 11,
   "id": "f69f4e34-3c48-4a17-93f5-46322f6d6655",
   "metadata": {
    "tags": []
   },
   "outputs": [
    {
     "name": "stdout",
     "output_type": "stream",
     "text": [
      "<class 'pandas.core.frame.DataFrame'>\n",
      "Int64Index: 75360380 entries, 61317704 to 14177166\n",
      "Data columns (total 4 columns):\n",
      "CustomerID    int64\n",
      "Rating        int64\n",
      "Date          object\n",
      "MovieID       int64\n",
      "dtypes: int64(3), object(1)\n",
      "memory usage: 2.8+ GB\n"
     ]
    }
   ],
   "source": [
    "final_data.info()"
   ]
  },
  {
   "cell_type": "code",
   "execution_count": 12,
   "id": "1b0c2b7d-0349-4efb-af90-7711af82e1d8",
   "metadata": {
    "tags": []
   },
   "outputs": [
    {
     "data": {
      "text/html": [
       "<div>\n",
       "<style scoped>\n",
       "    .dataframe tbody tr th:only-of-type {\n",
       "        vertical-align: middle;\n",
       "    }\n",
       "\n",
       "    .dataframe tbody tr th {\n",
       "        vertical-align: top;\n",
       "    }\n",
       "\n",
       "    .dataframe thead th {\n",
       "        text-align: right;\n",
       "    }\n",
       "</style>\n",
       "<table border=\"1\" class=\"dataframe\">\n",
       "  <thead>\n",
       "    <tr style=\"text-align: right;\">\n",
       "      <th></th>\n",
       "      <th>CustomerID</th>\n",
       "      <th>Rating</th>\n",
       "      <th>MovieID</th>\n",
       "    </tr>\n",
       "  </thead>\n",
       "  <tbody>\n",
       "    <tr>\n",
       "      <th>count</th>\n",
       "      <td>7.536038e+07</td>\n",
       "      <td>7.536038e+07</td>\n",
       "      <td>7.536038e+07</td>\n",
       "    </tr>\n",
       "    <tr>\n",
       "      <th>mean</th>\n",
       "      <td>1.322492e+06</td>\n",
       "      <td>3.604220e+00</td>\n",
       "      <td>9.070629e+03</td>\n",
       "    </tr>\n",
       "    <tr>\n",
       "      <th>std</th>\n",
       "      <td>7.644799e+05</td>\n",
       "      <td>1.085194e+00</td>\n",
       "      <td>5.131884e+03</td>\n",
       "    </tr>\n",
       "    <tr>\n",
       "      <th>min</th>\n",
       "      <td>6.000000e+00</td>\n",
       "      <td>1.000000e+00</td>\n",
       "      <td>1.000000e+00</td>\n",
       "    </tr>\n",
       "    <tr>\n",
       "      <th>25%</th>\n",
       "      <td>6.614070e+05</td>\n",
       "      <td>3.000000e+00</td>\n",
       "      <td>4.675000e+03</td>\n",
       "    </tr>\n",
       "    <tr>\n",
       "      <th>50%</th>\n",
       "      <td>1.319012e+06</td>\n",
       "      <td>4.000000e+00</td>\n",
       "      <td>9.051000e+03</td>\n",
       "    </tr>\n",
       "    <tr>\n",
       "      <th>75%</th>\n",
       "      <td>1.984378e+06</td>\n",
       "      <td>4.000000e+00</td>\n",
       "      <td>1.363400e+04</td>\n",
       "    </tr>\n",
       "    <tr>\n",
       "      <th>max</th>\n",
       "      <td>2.649429e+06</td>\n",
       "      <td>5.000000e+00</td>\n",
       "      <td>1.777000e+04</td>\n",
       "    </tr>\n",
       "  </tbody>\n",
       "</table>\n",
       "</div>"
      ],
      "text/plain": [
       "         CustomerID        Rating       MovieID\n",
       "count  7.536038e+07  7.536038e+07  7.536038e+07\n",
       "mean   1.322492e+06  3.604220e+00  9.070629e+03\n",
       "std    7.644799e+05  1.085194e+00  5.131884e+03\n",
       "min    6.000000e+00  1.000000e+00  1.000000e+00\n",
       "25%    6.614070e+05  3.000000e+00  4.675000e+03\n",
       "50%    1.319012e+06  4.000000e+00  9.051000e+03\n",
       "75%    1.984378e+06  4.000000e+00  1.363400e+04\n",
       "max    2.649429e+06  5.000000e+00  1.777000e+04"
      ]
     },
     "execution_count": 12,
     "metadata": {},
     "output_type": "execute_result"
    }
   ],
   "source": [
    "final_data.describe()"
   ]
  },
  {
   "cell_type": "code",
   "execution_count": 15,
   "id": "10c70832",
   "metadata": {},
   "outputs": [
    {
     "name": "stdout",
     "output_type": "stream",
     "text": [
      "Collecting seaborn\n",
      "  Downloading seaborn-0.12.2-py3-none-any.whl (293 kB)\n",
      "\u001b[2K     \u001b[90m━━━━━━━━━━━━━━━━━━━━━━━━━━━━━━━━━━━━━━━\u001b[0m \u001b[32m293.3/293.3 kB\u001b[0m \u001b[31m2.4 MB/s\u001b[0m eta \u001b[36m0:00:00\u001b[0ma \u001b[36m0:00:01\u001b[0m\n",
      "\u001b[?25hRequirement already satisfied: numpy!=1.24.0,>=1.17 in /Library/Frameworks/Python.framework/Versions/3.7/lib/python3.7/site-packages (from seaborn) (1.18.0)\n",
      "Requirement already satisfied: pandas>=0.25 in /Library/Frameworks/Python.framework/Versions/3.7/lib/python3.7/site-packages (from seaborn) (0.25.3)\n",
      "Collecting matplotlib!=3.6.1,>=3.1 (from seaborn)\n",
      "  Using cached matplotlib-3.5.3-cp37-cp37m-macosx_10_9_x86_64.whl (7.3 MB)\n",
      "Requirement already satisfied: typing_extensions in /Library/Frameworks/Python.framework/Versions/3.7/lib/python3.7/site-packages (from seaborn) (4.1.1)\n",
      "Collecting cycler>=0.10 (from matplotlib!=3.6.1,>=3.1->seaborn)\n",
      "  Using cached cycler-0.11.0-py3-none-any.whl (6.4 kB)\n",
      "Collecting fonttools>=4.22.0 (from matplotlib!=3.6.1,>=3.1->seaborn)\n",
      "  Using cached fonttools-4.38.0-py3-none-any.whl (965 kB)\n",
      "Collecting kiwisolver>=1.0.1 (from matplotlib!=3.6.1,>=3.1->seaborn)\n",
      "  Obtaining dependency information for kiwisolver>=1.0.1 from https://files.pythonhosted.org/packages/90/54/d173ef7c814476f23471781768804356494363a824e312a1bd0fef50344c/kiwisolver-1.4.5-cp37-cp37m-macosx_10_9_x86_64.whl.metadata\n",
      "  Downloading kiwisolver-1.4.5-cp37-cp37m-macosx_10_9_x86_64.whl.metadata (6.4 kB)\n",
      "Requirement already satisfied: packaging>=20.0 in /Users/saurabh/Library/Python/3.7/lib/python/site-packages (from matplotlib!=3.6.1,>=3.1->seaborn) (23.2)\n",
      "Collecting pillow>=6.2.0 (from matplotlib!=3.6.1,>=3.1->seaborn)\n",
      "  Using cached Pillow-9.5.0-cp37-cp37m-macosx_10_10_x86_64.whl (3.4 MB)\n",
      "Collecting pyparsing>=2.2.1 (from matplotlib!=3.6.1,>=3.1->seaborn)\n",
      "  Obtaining dependency information for pyparsing>=2.2.1 from https://files.pythonhosted.org/packages/39/92/8486ede85fcc088f1b3dba4ce92dd29d126fd96b0008ea213167940a2475/pyparsing-3.1.1-py3-none-any.whl.metadata\n",
      "  Downloading pyparsing-3.1.1-py3-none-any.whl.metadata (5.1 kB)\n",
      "Requirement already satisfied: python-dateutil>=2.7 in /Library/Frameworks/Python.framework/Versions/3.7/lib/python3.7/site-packages (from matplotlib!=3.6.1,>=3.1->seaborn) (2.8.2)\n",
      "Requirement already satisfied: pytz>=2017.2 in /Library/Frameworks/Python.framework/Versions/3.7/lib/python3.7/site-packages (from pandas>=0.25->seaborn) (2019.1)\n",
      "Requirement already satisfied: six>=1.5 in /Library/Frameworks/Python.framework/Versions/3.7/lib/python3.7/site-packages (from python-dateutil>=2.7->matplotlib!=3.6.1,>=3.1->seaborn) (1.16.0)\n",
      "Using cached kiwisolver-1.4.5-cp37-cp37m-macosx_10_9_x86_64.whl (67 kB)\n",
      "Using cached pyparsing-3.1.1-py3-none-any.whl (103 kB)\n",
      "Installing collected packages: pyparsing, pillow, kiwisolver, fonttools, cycler, matplotlib, seaborn\n",
      "Successfully installed cycler-0.11.0 fonttools-4.38.0 kiwisolver-1.4.5 matplotlib-3.5.3 pillow-9.5.0 pyparsing-3.1.1 seaborn-0.12.2\n"
     ]
    }
   ],
   "source": [
    "!pip3 install seaborn"
   ]
  },
  {
   "cell_type": "code",
   "execution_count": 16,
   "id": "dcfa0bf3-132c-49c9-b825-9924904f3396",
   "metadata": {
    "tags": []
   },
   "outputs": [
    {
     "data": {
      "text/plain": [
       "(100480507, 4)"
      ]
     },
     "execution_count": 16,
     "metadata": {},
     "output_type": "execute_result"
    }
   ],
   "source": [
    "import numpy as np\n",
    "import seaborn as sns\n",
    "import matplotlib.pyplot as plt\n",
    "\n",
    "final_dataframe.shape"
   ]
  },
  {
   "cell_type": "code",
   "execution_count": 17,
   "id": "6a1bcb5c-5e4b-48a1-b013-f4f22caf90e0",
   "metadata": {
    "tags": []
   },
   "outputs": [
    {
     "data": {
      "text/plain": [
       "(75360380, 4)"
      ]
     },
     "execution_count": 17,
     "metadata": {},
     "output_type": "execute_result"
    }
   ],
   "source": [
    "final_data.shape"
   ]
  },
  {
   "cell_type": "code",
   "execution_count": 18,
   "id": "8ccd7e23-9c38-4a12-aec4-36bea7f25fec",
   "metadata": {
    "tags": []
   },
   "outputs": [
    {
     "data": {
      "text/html": [
       "<div>\n",
       "<style scoped>\n",
       "    .dataframe tbody tr th:only-of-type {\n",
       "        vertical-align: middle;\n",
       "    }\n",
       "\n",
       "    .dataframe tbody tr th {\n",
       "        vertical-align: top;\n",
       "    }\n",
       "\n",
       "    .dataframe thead th {\n",
       "        text-align: right;\n",
       "    }\n",
       "</style>\n",
       "<table border=\"1\" class=\"dataframe\">\n",
       "  <thead>\n",
       "    <tr style=\"text-align: right;\">\n",
       "      <th></th>\n",
       "      <th>CustomerID</th>\n",
       "      <th>Rating</th>\n",
       "      <th>Date</th>\n",
       "      <th>MovieID</th>\n",
       "    </tr>\n",
       "  </thead>\n",
       "  <tbody>\n",
       "    <tr>\n",
       "      <th>61317704</th>\n",
       "      <td>2424683</td>\n",
       "      <td>3</td>\n",
       "      <td>2004-08-16</td>\n",
       "      <td>11182</td>\n",
       "    </tr>\n",
       "    <tr>\n",
       "      <th>55102674</th>\n",
       "      <td>2451736</td>\n",
       "      <td>4</td>\n",
       "      <td>2005-08-19</td>\n",
       "      <td>10078</td>\n",
       "    </tr>\n",
       "    <tr>\n",
       "      <th>95978192</th>\n",
       "      <td>2218837</td>\n",
       "      <td>5</td>\n",
       "      <td>2004-04-04</td>\n",
       "      <td>17003</td>\n",
       "    </tr>\n",
       "    <tr>\n",
       "      <th>56804982</th>\n",
       "      <td>2590110</td>\n",
       "      <td>3</td>\n",
       "      <td>2005-10-24</td>\n",
       "      <td>10375</td>\n",
       "    </tr>\n",
       "    <tr>\n",
       "      <th>26421162</th>\n",
       "      <td>841190</td>\n",
       "      <td>3</td>\n",
       "      <td>2005-07-09</td>\n",
       "      <td>4914</td>\n",
       "    </tr>\n",
       "  </tbody>\n",
       "</table>\n",
       "</div>"
      ],
      "text/plain": [
       "          CustomerID  Rating        Date  MovieID\n",
       "61317704     2424683       3  2004-08-16    11182\n",
       "55102674     2451736       4  2005-08-19    10078\n",
       "95978192     2218837       5  2004-04-04    17003\n",
       "56804982     2590110       3  2005-10-24    10375\n",
       "26421162      841190       3  2005-07-09     4914"
      ]
     },
     "execution_count": 18,
     "metadata": {},
     "output_type": "execute_result"
    }
   ],
   "source": [
    "final_data.head()"
   ]
  },
  {
   "cell_type": "code",
   "execution_count": 19,
   "id": "f0dc80b7-cf29-4a71-b562-1bdad07d170e",
   "metadata": {
    "tags": []
   },
   "outputs": [
    {
     "name": "stdout",
     "output_type": "stream",
     "text": [
      "Total number of rating: 75360380\n",
      "Total number of users: 479670\n",
      "Total number of movies: 17770\n"
     ]
    }
   ],
   "source": [
    "total_ratings = final_data.shape[0]\n",
    "unique_users = final_data.CustomerID.nunique()\n",
    "unique_movies = final_data.MovieID.nunique()\n",
    "\n",
    "print(f'Total number of rating: {total_ratings}')\n",
    "print(f'Total number of users: {unique_users}')\n",
    "print(f'Total number of movies: {unique_movies}')"
   ]
  },
  {
   "cell_type": "markdown",
   "id": "6b867657-9f4a-4feb-8f0d-03e0fbc08f1c",
   "metadata": {},
   "source": [
    "#### We can see there are 75,360,380 elements in the sparse matrix of size 479646 x 17770. Therefore, only 0.88% of the matrix is filled."
   ]
  },
  {
   "cell_type": "code",
   "execution_count": 20,
   "id": "4a709fe9-b5ce-4de1-a125-cc5991e466f7",
   "metadata": {
    "tags": []
   },
   "outputs": [
    {
     "data": {
      "text/plain": [
       "CustomerID    0\n",
       "Rating        0\n",
       "Date          0\n",
       "MovieID       0\n",
       "dtype: int64"
      ]
     },
     "execution_count": 20,
     "metadata": {},
     "output_type": "execute_result"
    }
   ],
   "source": [
    "# checking for missing values\n",
    "final_data.isna().sum()"
   ]
  },
  {
   "cell_type": "code",
   "execution_count": 44,
   "id": "b8e53c14-8f82-4ad0-a748-70ef48b61c12",
   "metadata": {
    "tags": []
   },
   "outputs": [
    {
     "data": {
      "text/plain": [
       "0"
      ]
     },
     "execution_count": 44,
     "metadata": {},
     "output_type": "execute_result"
    }
   ],
   "source": [
    "final_data.duplicated().sum()"
   ]
  },
  {
   "cell_type": "markdown",
   "id": "f7bf0e10-32a7-4039-b74f-eb723333ca2e",
   "metadata": {},
   "source": [
    "#### We can conclude that the data has no Missing Values or Duplicate Values."
   ]
  },
  {
   "cell_type": "code",
   "execution_count": 52,
   "id": "ce394289-755d-43f3-b7a5-9e577c2b634c",
   "metadata": {
    "tags": []
   },
   "outputs": [
    {
     "data": {
      "text/html": [
       "<div>\n",
       "<style scoped>\n",
       "    .dataframe tbody tr th:only-of-type {\n",
       "        vertical-align: middle;\n",
       "    }\n",
       "\n",
       "    .dataframe tbody tr th {\n",
       "        vertical-align: top;\n",
       "    }\n",
       "\n",
       "    .dataframe thead th {\n",
       "        text-align: right;\n",
       "    }\n",
       "</style>\n",
       "<table border=\"1\" class=\"dataframe\">\n",
       "  <thead>\n",
       "    <tr style=\"text-align: right;\">\n",
       "      <th></th>\n",
       "      <th>index</th>\n",
       "      <th>Rating</th>\n",
       "    </tr>\n",
       "  </thead>\n",
       "  <tbody>\n",
       "    <tr>\n",
       "      <th>0</th>\n",
       "      <td>4</td>\n",
       "      <td>0.335904</td>\n",
       "    </tr>\n",
       "    <tr>\n",
       "      <th>1</th>\n",
       "      <td>3</td>\n",
       "      <td>0.286735</td>\n",
       "    </tr>\n",
       "    <tr>\n",
       "      <th>2</th>\n",
       "      <td>5</td>\n",
       "      <td>0.230565</td>\n",
       "    </tr>\n",
       "    <tr>\n",
       "      <th>3</th>\n",
       "      <td>2</td>\n",
       "      <td>0.100839</td>\n",
       "    </tr>\n",
       "    <tr>\n",
       "      <th>4</th>\n",
       "      <td>1</td>\n",
       "      <td>0.045957</td>\n",
       "    </tr>\n",
       "  </tbody>\n",
       "</table>\n",
       "</div>"
      ],
      "text/plain": [
       "   index    Rating\n",
       "0      4  0.335904\n",
       "1      3  0.286735\n",
       "2      5  0.230565\n",
       "3      2  0.100839\n",
       "4      1  0.045957"
      ]
     },
     "execution_count": 52,
     "metadata": {},
     "output_type": "execute_result"
    }
   ],
   "source": [
    "rating_distribution = final_data.Rating.value_counts(normalize=True).reset_index()\n",
    "rating_distribution"
   ]
  },
  {
   "cell_type": "code",
   "execution_count": 53,
   "id": "992eef10-1dec-478b-a69d-4d35a361c314",
   "metadata": {
    "tags": []
   },
   "outputs": [
    {
     "data": {
      "image/png": "[encoded data removed]",
      "text/plain": [
       "<Figure size 800x600 with 1 Axes>"
      ]
     },
     "metadata": {},
     "output_type": "display_data"
    }
   ],
   "source": [
    "plt.figure(figsize=(8,6))\n",
    "sns.barplot(rating_distribution, x='index',y='Rating')\n",
    "plt.title('Rating Distribution')\n",
    "plt.xlabel('Rating') \n",
    "plt.ylabel('Percentage of Ratings')\n",
    "del rating_distribution\n",
    "plt.show()"
   ]
  },
  {
   "cell_type": "code",
   "execution_count": 58,
   "id": "c1441093-fd11-4f31-a58d-719e5c36abc9",
   "metadata": {
    "tags": []
   },
   "outputs": [],
   "source": [
    "final_data['Rating_year'] = final_data.Date.apply(lambda x: x.split('-')[0])"
   ]
  },
  {
   "cell_type": "code",
   "execution_count": 71,
   "id": "6655fad1-784c-4c39-9805-531d5a768a67",
   "metadata": {
    "tags": []
   },
   "outputs": [
    {
     "data": {
      "text/html": [
       "<div>\n",
       "<style scoped>\n",
       "    .dataframe tbody tr th:only-of-type {\n",
       "        vertical-align: middle;\n",
       "    }\n",
       "\n",
       "    .dataframe tbody tr th {\n",
       "        vertical-align: top;\n",
       "    }\n",
       "\n",
       "    .dataframe thead th {\n",
       "        text-align: right;\n",
       "    }\n",
       "</style>\n",
       "<table border=\"1\" class=\"dataframe\">\n",
       "  <thead>\n",
       "    <tr style=\"text-align: right;\">\n",
       "      <th></th>\n",
       "      <th>index</th>\n",
       "      <th>Rating_year</th>\n",
       "    </tr>\n",
       "  </thead>\n",
       "  <tbody>\n",
       "    <tr>\n",
       "      <th>0</th>\n",
       "      <td>2005</td>\n",
       "      <td>0.529936</td>\n",
       "    </tr>\n",
       "    <tr>\n",
       "      <th>1</th>\n",
       "      <td>2004</td>\n",
       "      <td>0.300595</td>\n",
       "    </tr>\n",
       "    <tr>\n",
       "      <th>2</th>\n",
       "      <td>2003</td>\n",
       "      <td>0.099398</td>\n",
       "    </tr>\n",
       "    <tr>\n",
       "      <th>3</th>\n",
       "      <td>2002</td>\n",
       "      <td>0.043233</td>\n",
       "    </tr>\n",
       "    <tr>\n",
       "      <th>4</th>\n",
       "      <td>2001</td>\n",
       "      <td>0.017604</td>\n",
       "    </tr>\n",
       "    <tr>\n",
       "      <th>5</th>\n",
       "      <td>2000</td>\n",
       "      <td>0.009212</td>\n",
       "    </tr>\n",
       "    <tr>\n",
       "      <th>6</th>\n",
       "      <td>1999</td>\n",
       "      <td>0.000022</td>\n",
       "    </tr>\n",
       "  </tbody>\n",
       "</table>\n",
       "</div>"
      ],
      "text/plain": [
       "  index  Rating_year\n",
       "0  2005     0.529936\n",
       "1  2004     0.300595\n",
       "2  2003     0.099398\n",
       "3  2002     0.043233\n",
       "4  2001     0.017604\n",
       "5  2000     0.009212\n",
       "6  1999     0.000022"
      ]
     },
     "execution_count": 71,
     "metadata": {},
     "output_type": "execute_result"
    }
   ],
   "source": [
    "rating_by_year = final_data.Rating_year.value_counts(normalize=True).reset_index()\n",
    "rating_by_year"
   ]
  },
  {
   "cell_type": "code",
   "execution_count": 72,
   "id": "92d57e11-a343-47e4-bd31-c8a55a91c660",
   "metadata": {
    "tags": []
   },
   "outputs": [
    {
     "data": {
      "image/png": "[encoded data removed]",
      "text/plain": [
       "<Figure size 800x600 with 1 Axes>"
      ]
     },
     "metadata": {},
     "output_type": "display_data"
    }
   ],
   "source": [
    "plt.figure(figsize=(8,6))\n",
    "sns.barplot(rating_by_year, x='index',y='Rating_year')\n",
    "sns.set_palette(\"Set2\")\n",
    "plt.title('Number of Rating Distribution by year')\n",
    "plt.xlabel('Year') \n",
    "plt.ylabel('Percentage of Ratings')\n",
    "del rating_by_year\n",
    "plt.show()"
   ]
  },
  {
   "cell_type": "code",
   "execution_count": 95,
   "id": "12bce2f9-82e7-43bf-94bd-76681d49a398",
   "metadata": {
    "tags": []
   },
   "outputs": [
    {
     "data": {
      "text/html": [
       "<div>\n",
       "<style scoped>\n",
       "    .dataframe tbody tr th:only-of-type {\n",
       "        vertical-align: middle;\n",
       "    }\n",
       "\n",
       "    .dataframe tbody tr th {\n",
       "        vertical-align: top;\n",
       "    }\n",
       "\n",
       "    .dataframe thead th {\n",
       "        text-align: right;\n",
       "    }\n",
       "</style>\n",
       "<table border=\"1\" class=\"dataframe\">\n",
       "  <thead>\n",
       "    <tr style=\"text-align: right;\">\n",
       "      <th></th>\n",
       "      <th>MovieID</th>\n",
       "      <th>YearOfRelease</th>\n",
       "      <th>Title</th>\n",
       "    </tr>\n",
       "  </thead>\n",
       "  <tbody>\n",
       "    <tr>\n",
       "      <th>0</th>\n",
       "      <td>1</td>\n",
       "      <td>2003</td>\n",
       "      <td>Dinosaur Planet</td>\n",
       "    </tr>\n",
       "    <tr>\n",
       "      <th>1</th>\n",
       "      <td>2</td>\n",
       "      <td>2004</td>\n",
       "      <td>Isle of Man TT 2004 Review</td>\n",
       "    </tr>\n",
       "    <tr>\n",
       "      <th>2</th>\n",
       "      <td>3</td>\n",
       "      <td>1997</td>\n",
       "      <td>Character</td>\n",
       "    </tr>\n",
       "    <tr>\n",
       "      <th>3</th>\n",
       "      <td>4</td>\n",
       "      <td>1994</td>\n",
       "      <td>Paula Abdul's Get Up &amp; Dance</td>\n",
       "    </tr>\n",
       "    <tr>\n",
       "      <th>4</th>\n",
       "      <td>5</td>\n",
       "      <td>2004</td>\n",
       "      <td>The Rise and Fall of ECW</td>\n",
       "    </tr>\n",
       "  </tbody>\n",
       "</table>\n",
       "</div>"
      ],
      "text/plain": [
       "   MovieID  YearOfRelease                         Title\n",
       "0        1           2003               Dinosaur Planet\n",
       "1        2           2004    Isle of Man TT 2004 Review\n",
       "2        3           1997                     Character\n",
       "3        4           1994  Paula Abdul's Get Up & Dance\n",
       "4        5           2004      The Rise and Fall of ECW"
      ]
     },
     "execution_count": 95,
     "metadata": {},
     "output_type": "execute_result"
    }
   ],
   "source": [
    "data.fillna(0, inplace=True)\n",
    "data['YearOfRelease'] = data['YearOfRelease'].astype(int)\n",
    "data.head()"
   ]
  },
  {
   "cell_type": "code",
   "execution_count": 96,
   "id": "5de2aee8-92e5-497d-8b6d-dcec46f94398",
   "metadata": {
    "tags": []
   },
   "outputs": [
    {
     "data": {
      "text/plain": [
       "2004    0.081024\n",
       "2002    0.073679\n",
       "2003    0.071326\n",
       "2000    0.069605\n",
       "2001    0.067022\n",
       "          ...   \n",
       "1923    0.000115\n",
       "1918    0.000115\n",
       "1914    0.000115\n",
       "1909    0.000057\n",
       "1896    0.000057\n",
       "Name: YearOfRelease, Length: 94, dtype: float64"
      ]
     },
     "execution_count": 96,
     "metadata": {},
     "output_type": "execute_result"
    }
   ],
   "source": [
    "releases_by_year = data[data.YearOfRelease > 1800].YearOfRelease.value_counts(normalize=True)\n",
    "releases_by_year"
   ]
  },
  {
   "cell_type": "code",
   "execution_count": 97,
   "id": "fd4620f4-b0a4-4dc0-adbe-0e11a8f6b9c0",
   "metadata": {
    "tags": []
   },
   "outputs": [
    {
     "data": {
      "text/plain": [
       "99.95411265343581"
      ]
     },
     "execution_count": 97,
     "metadata": {},
     "output_type": "execute_result"
    }
   ],
   "source": [
    "len(data[data.YearOfRelease > 1900])/len(data)*100"
   ]
  },
  {
   "cell_type": "code",
   "execution_count": 98,
   "id": "a5f2ffbb-f44d-4d05-85b5-b84457a0452c",
   "metadata": {
    "tags": []
   },
   "outputs": [
    {
     "data": {
      "image/png": "[encoded data removed]",
      "text/plain": [
       "<Figure size 800x600 with 1 Axes>"
      ]
     },
     "metadata": {},
     "output_type": "display_data"
    }
   ],
   "source": [
    "plt.figure(figsize=(8,6))\n",
    "sns.histplot(data[data.YearOfRelease > 1900].YearOfRelease, bins=100)\n",
    "plt.title('Number of Releases Distribution by year')\n",
    "plt.xlabel('Year') \n",
    "plt.ylabel('Percentage of Releases')\n",
    "\n",
    "del data, releases_by_year\n",
    "\n",
    "plt.show()"
   ]
  },
  {
   "cell_type": "code",
   "execution_count": null,
   "id": "405c0678-fd70-4988-be77-7a5e60181186",
   "metadata": {
    "tags": []
   },
   "outputs": [],
   "source": [
    "# first rating\n",
    "final_data = final_data.sort_values(by=['Rating_year'], ascending=True).reset_index(drop=True)\n",
    "first_rating = final_data.drop_duplicates(subset=['CustomerID'], keep='first')\n",
    "first_rating.head()"
   ]
  },
  {
   "cell_type": "code",
   "execution_count": null,
   "id": "e9d484f8-b25c-4da1-abca-ed13b63ca5d7",
   "metadata": {
    "tags": []
   },
   "outputs": [],
   "source": [
    "first_rating_by_year = first_rating.Rating_year.value_counts(normalize=True).reset_index()\n",
    "first_rating_by_year"
   ]
  },
  {
   "cell_type": "code",
   "execution_count": null,
   "id": "8f29c556-b6de-498d-ad67-ca75b8b33764",
   "metadata": {
    "tags": []
   },
   "outputs": [],
   "source": [
    "plt.figure(figsize=(8,6))\n",
    "sns.barplot(first_rating_by_year, x='index',y='Rating_year')\n",
    "plt.title('Number of first ratings distribution by year')\n",
    "plt.xlabel('Year') \n",
    "plt.ylabel('Percentage of first ratings')\n",
    "del first_rating, first_rating_by_year\n",
    "plt.show()"
   ]
  },
  {
   "cell_type": "code",
   "execution_count": null,
   "id": "bb265ce2-7032-45a9-941b-8f3270c527de",
   "metadata": {},
   "outputs": [],
   "source": [
    "last_rating = final_data.drop_duplicates(subset=['CustomerID'], keep='last')\n",
    "last_rating.head()"
   ]
  },
  {
   "cell_type": "code",
   "execution_count": 10,
   "metadata": {},
   "outputs": [
    {
     "data": {
      "text/html": [
       "<div>\n",
       "<style scoped>\n",
       "    .dataframe tbody tr th:only-of-type {\n",
       "        vertical-align: middle;\n",
       "    }\n",
       "\n",
       "    .dataframe tbody tr th {\n",
       "        vertical-align: top;\n",
       "    }\n",
       "\n",
       "    .dataframe thead th {\n",
       "        text-align: right;\n",
       "    }\n",
       "</style>\n",
       "<table border=\"1\" class=\"dataframe\">\n",
       "  <thead>\n",
       "    <tr style=\"text-align: right;\">\n",
       "      <th></th>\n",
       "      <th>CustomerID</th>\n",
       "      <th>Rating</th>\n",
       "      <th>MovieID</th>\n",
       "    </tr>\n",
       "  </thead>\n",
       "  <tbody>\n",
       "    <tr>\n",
       "      <th>count</th>\n",
       "      <td>7.536038e+07</td>\n",
       "      <td>7.536038e+07</td>\n",
       "      <td>7.536038e+07</td>\n",
       "    </tr>\n",
       "    <tr>\n",
       "      <th>mean</th>\n",
       "      <td>1.322501e+06</td>\n",
       "      <td>3.604346e+00</td>\n",
       "      <td>9.071131e+03</td>\n",
       "    </tr>\n",
       "    <tr>\n",
       "      <th>std</th>\n",
       "      <td>7.645683e+05</td>\n",
       "      <td>1.085196e+00</td>\n",
       "      <td>5.131751e+03</td>\n",
       "    </tr>\n",
       "    <tr>\n",
       "      <th>min</th>\n",
       "      <td>6.000000e+00</td>\n",
       "      <td>1.000000e+00</td>\n",
       "      <td>1.000000e+00</td>\n",
       "    </tr>\n",
       "    <tr>\n",
       "      <th>25%</th>\n",
       "      <td>6.611680e+05</td>\n",
       "      <td>3.000000e+00</td>\n",
       "      <td>4.677000e+03</td>\n",
       "    </tr>\n",
       "    <tr>\n",
       "      <th>50%</th>\n",
       "      <td>1.319012e+06</td>\n",
       "      <td>4.000000e+00</td>\n",
       "      <td>9.051000e+03</td>\n",
       "    </tr>\n",
       "    <tr>\n",
       "      <th>75%</th>\n",
       "      <td>1.984503e+06</td>\n",
       "      <td>4.000000e+00</td>\n",
       "      <td>1.363500e+04</td>\n",
       "    </tr>\n",
       "    <tr>\n",
       "      <th>max</th>\n",
       "      <td>2.649429e+06</td>\n",
       "      <td>5.000000e+00</td>\n",
       "      <td>1.777000e+04</td>\n",
       "    </tr>\n",
       "  </tbody>\n",
       "</table>\n",
       "</div>"
      ],
      "text/plain": [
       "         CustomerID        Rating       MovieID\n",
       "count  7.536038e+07  7.536038e+07  7.536038e+07\n",
       "mean   1.322501e+06  3.604346e+00  9.071131e+03\n",
       "std    7.645683e+05  1.085196e+00  5.131751e+03\n",
       "min    6.000000e+00  1.000000e+00  1.000000e+00\n",
       "25%    6.611680e+05  3.000000e+00  4.677000e+03\n",
       "50%    1.319012e+06  4.000000e+00  9.051000e+03\n",
       "75%    1.984503e+06  4.000000e+00  1.363500e+04\n",
       "max    2.649429e+06  5.000000e+00  1.777000e+04"
      ]
     },
     "execution_count": 10,
     "metadata": {},
     "output_type": "execute_result"
    }
   ],
   "source": [
    "final_data.describe()"
   ]
  },
  {
   "cell_type": "code",
   "execution_count": null,
   "metadata": {},
   "outputs": [],
   "source": []
  }
 ],
 "metadata": {
  "kernelspec": {
   "display_name": "Python 3 (ipykernel)",
   "language": "python",
   "name": "python3"
  },
  "language_info": {
   "codemirror_mode": {
    "name": "ipython",
    "version": 3
   },
   "file_extension": ".py",
   "mimetype": "text/x-python",
   "name": "python",
   "nbconvert_exporter": "python",
   "pygments_lexer": "ipython3",
   "version": "3.7.9"
  }
 },
 "nbformat": 4,
 "nbformat_minor": 5
}
