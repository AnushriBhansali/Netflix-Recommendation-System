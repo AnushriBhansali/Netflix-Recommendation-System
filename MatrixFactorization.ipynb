{
 "cells": [
  {
   "cell_type": "code",
   "execution_count": 2,
   "id": "7e7f5bc8-95f9-4422-b275-5f99c822d290",
   "metadata": {
    "tags": []
   },
   "outputs": [],
   "source": [
    "import os\n",
    "import pandas as pd\n",
    "import numpy as np\n",
    "import torch\n",
    "import torch.nn as nn\n",
    "import torch.optim as optim\n",
    "from torch.utils.data import Dataset, DataLoader\n",
    "from sklearn.model_selection import train_test_split\n",
    "from math import sqrt\n",
    "import matplotlib.pyplot as plt\n",
    "import seaborn as sns"
   ]
  },
  {
   "cell_type": "markdown",
   "id": "eab82844-19fb-4610-9208-ef338b5bc0d5",
   "metadata": {},
   "source": [
    "MATRIX FACTORIZATION MODEL"
   ]
  },
  {
   "cell_type": "code",
   "execution_count": null,
   "id": "00c8ad0c-4495-49e1-8b7a-1a18c878570b",
   "metadata": {
    "tags": []
   },
   "outputs": [],
   "source": [
    "class MatrixFactorizationModel(nn.Module):\n",
    "    def __init__(self, num_users, num_movies, num_factors):\n",
    "        super(MatrixFactorizationModel, self).__init__()\n",
    "        self.user_factors = nn.Embedding(num_users, num_factors)\n",
    "        self.movie_factors = nn.Embedding(num_movies, num_factors)\n",
    "\n",
    "    def forward(self, user, movie):\n",
    "        user_factor = self.user_factors(user)\n",
    "        movie_factor = self.movie_factors(movie)\n",
    "        interaction = (user_factor * movie_factor).sum(1, keepdim=True)\n",
    "        return interaction.squeeze()\n",
    "\n",
    "# Initialize the Matrix Factorization Model\n",
    "num_factors = 200\n",
    "model = MatrixFactorizationModel(len(unique_users), len(unique_movies), num_factors)\n",
    "model = model.to(device)\n",
    "    \n",
    "criterion = nn.MSELoss()\n",
    "optimizer = optim.Adam(model.parameters(), lr=0.001)"
   ]
  },
  {
   "cell_type": "code",
   "execution_count": 51,
   "id": "857127eb-7251-4d9b-a6f1-3b1af0791b2f",
   "metadata": {
    "tags": []
   },
   "outputs": [],
   "source": [
    "def average_precision_at_k(actual, predicted, k):\n",
    "    \"\"\"\n",
    "    Compute the average precision at k.\n",
    "    Parameters:\n",
    "    actual (list): A list of actual relevant items\n",
    "    predicted (list): A list of predicted items\n",
    "    k (int): The number of predicted items to consider\n",
    "    Returns:\n",
    "    The average precision at k.\n",
    "    \"\"\"\n",
    "    if len(predicted) > k:\n",
    "        predicted = predicted[:k]\n",
    "\n",
    "    score = 0.0\n",
    "    num_hits = 0.0\n",
    "\n",
    "    for i, p in enumerate(predicted):\n",
    "        if p in actual and p not in predicted[:i]:\n",
    "            num_hits += 1.0\n",
    "            score += num_hits / (i + 1.0)\n",
    "\n",
    "    if not actual:\n",
    "        return 0.0\n",
    "\n",
    "    return score / min(len(actual), k)\n",
    "\n",
    "def mapk(actual, predicted, k=5):\n",
    "    \"\"\"\n",
    "    Compute the mean average precision at k.\n",
    "    Parameters:\n",
    "    actual (dict): A dictionary containing the actual relevant items for each user.\n",
    "    predicted (dict): A dictionary containing the predicted items for each user.\n",
    "    k (int): The number of predicted items to consider\n",
    "    Returns:\n",
    "    The mean average precision at k.\n",
    "    \"\"\"\n",
    "    map_values = []\n",
    "    for user, items in predicted.items():\n",
    "        if user not in actual or not items:\n",
    "            continue\n",
    "        else:\n",
    "            ap = average_precision_at_k(actual[user], items, k)\n",
    "            map_values.append(ap)\n",
    "    return sum(map_values) / len(map_values)"
   ]
  },
  {
   "cell_type": "markdown",
   "id": "27762bdc-c9b1-4dc6-a450-2175ee55ad48",
   "metadata": {},
   "source": [
    "TRAINING THE MODEL USING MAP@K, K=10"
   ]
  },
  {
   "cell_type": "code",
   "execution_count": 121,
   "id": "5f56020a-aacf-4192-be7f-9c0bdf1f75bc",
   "metadata": {
    "tags": []
   },
   "outputs": [
    {
     "name": "stderr",
     "output_type": "stream",
     "text": [
      "Epoch 1/5 - Training: 100%|██████████| 23551/23551 [1:57:51<00:00,  3.33it/s]  \n",
      "Epoch 1/5 - Validation: 100%|██████████| 5888/5888 [00:20<00:00, 290.84it/s]\n",
      "Epoch 1/5 - Validation: 100%|█████████▉| 5865/5888 [00:19<00:00, 367.96it/s]/Users/anushribhansali/anaconda3/lib/python3.11/site-packages/torch/nn/modules/loss.py:535: UserWarning: Using a target size (torch.Size([272, 1])) that is different to the input size (torch.Size([272])). This will likely lead to incorrect results due to broadcasting. Please ensure they have the same size.\n",
      "  return F.mse_loss(input, target, reduction=self.reduction)\n",
      "Epoch 1/5 - Validation: 100%|██████████| 5888/5888 [00:19<00:00, 307.84it/s]\n"
     ]
    },
    {
     "name": "stdout",
     "output_type": "stream",
     "text": [
      "Epoch 1/5, Train Loss: 9.4127, Validation Loss: 7.1873\n",
      "Validation RMSE: 2.6809, Validation MAP@5: 0.1370\n"
     ]
    },
    {
     "name": "stderr",
     "output_type": "stream",
     "text": [
      "Epoch 2/5 - Training: 100%|██████████| 23551/23551 [1:20:50<00:00,  4.86it/s]\n",
      "Epoch 2/5 - Validation: 100%|██████████| 5888/5888 [00:18<00:00, 317.97it/s]\n",
      "Epoch 2/5 - Validation: 100%|██████████| 5888/5888 [00:21<00:00, 273.92it/s]\n"
     ]
    },
    {
     "name": "stdout",
     "output_type": "stream",
     "text": [
      "Epoch 2/5, Train Loss: 4.5743, Validation Loss: 4.9471\n",
      "Validation RMSE: 2.2242, Validation MAP@5: 0.1419\n"
     ]
    },
    {
     "name": "stderr",
     "output_type": "stream",
     "text": [
      "Epoch 3/5 - Training: 100%|██████████| 23551/23551 [1:33:01<00:00,  4.22it/s]  \n",
      "Epoch 3/5 - Validation: 100%|██████████| 5888/5888 [00:18<00:00, 322.61it/s]\n",
      "Epoch 3/5 - Validation: 100%|██████████| 5888/5888 [00:22<00:00, 262.18it/s]\n"
     ]
    },
    {
     "name": "stdout",
     "output_type": "stream",
     "text": [
      "Epoch 3/5, Train Loss: 2.2920, Validation Loss: 4.1772\n",
      "Validation RMSE: 2.0438, Validation MAP@5: 0.1472\n"
     ]
    },
    {
     "name": "stderr",
     "output_type": "stream",
     "text": [
      "Epoch 4/5 - Training: 100%|██████████| 23551/23551 [1:55:21<00:00,  3.40it/s]  \n",
      "Epoch 4/5 - Validation: 100%|██████████| 5888/5888 [00:18<00:00, 324.38it/s]\n",
      "Epoch 4/5 - Validation: 100%|██████████| 5888/5888 [00:23<00:00, 246.94it/s]\n"
     ]
    },
    {
     "name": "stdout",
     "output_type": "stream",
     "text": [
      "Epoch 4/5, Train Loss: 1.5858, Validation Loss: 3.8880\n",
      "Validation RMSE: 1.9718, Validation MAP@5: 0.1491\n"
     ]
    },
    {
     "name": "stderr",
     "output_type": "stream",
     "text": [
      "Epoch 5/5 - Training: 100%|██████████| 23551/23551 [1:38:56<00:00,  3.97it/s]  \n",
      "Epoch 5/5 - Validation: 100%|██████████| 5888/5888 [00:18<00:00, 322.41it/s]\n",
      "Epoch 5/5 - Validation: 100%|██████████| 5888/5888 [00:23<00:00, 245.69it/s]"
     ]
    },
    {
     "name": "stdout",
     "output_type": "stream",
     "text": [
      "Epoch 5/5, Train Loss: 1.4007, Validation Loss: 3.7223\n",
      "Validation RMSE: 1.9293, Validation MAP@5: 0.1499\n"
     ]
    },
    {
     "name": "stderr",
     "output_type": "stream",
     "text": [
      "\n"
     ]
    }
   ],
   "source": [
    "# from tqdm import tqdm\n",
    "# # Train the model\n",
    "# num_epochs = 5\n",
    "\n",
    "# for epoch in range(num_epochs):\n",
    "#     model.train()\n",
    "#     train_loss = 0.0\n",
    "\n",
    "#     for user, movie, rating in tqdm(train_loader, desc=f\"Epoch {epoch+1}/{num_epochs} - Training\"):\n",
    "#         optimizer.zero_grad()\n",
    "#         user = user.long().to(device)\n",
    "#         movie = movie.long().to(device)\n",
    "#         rating = rating.float().view(-1, 1).to(device)\n",
    "#         prediction = model(user, movie).view(-1,1)\n",
    "#         loss = criterion(prediction, rating)\n",
    "#         loss.backward()\n",
    "#         optimizer.step()\n",
    "#         train_loss += sqrt(loss.item())\n",
    "\n",
    "#     train_loss /= len(train_loader)\n",
    "\n",
    "#     model.eval()\n",
    "#     val_loss = 0.0\n",
    "#     val_mapk = 0.0\n",
    "#     num_users = 0\n",
    "#     mov_usr = dict()\n",
    "#     with torch.no_grad():\n",
    "#         for user, movie, rating in tqdm(val_loader, desc=f\"Epoch {epoch+1}/{num_epochs} - Validation\"):\n",
    "#             for i, us in enumerate(user):\n",
    "#                 u, m, r = us.item(), movie[i].item(), rating[i].item()\n",
    "#                 if u not in mov_usr and r>2:\n",
    "#                     mov_usr[u] = [m]\n",
    "#                 elif r>2:\n",
    "#                     mov_usr[u].append(m)\n",
    "\n",
    "#     with torch.no_grad():\n",
    "#         for user, movie, rating in tqdm(val_loader, desc=f\"Epoch {epoch+1}/{num_epochs} - Validation\"):\n",
    "#             user = user.long().to(device)\n",
    "#             movie = movie.long().to(device)\n",
    "#             rating = rating.float().view(-1, 1).to(device)\n",
    "\n",
    "#             prediction = model(user, movie)\n",
    "#             loss = criterion(prediction, rating)\n",
    "\n",
    "#             val_loss += sqrt(loss.item())\n",
    "\n",
    "#             # Calculate map@k\n",
    "#             actual_ratings = rating.cpu().numpy()\n",
    "#             predicted_ratings = prediction.cpu().numpy()\n",
    "#             pred_dict = dict()\n",
    "#             for i, pr in enumerate(predicted_ratings):\n",
    "#                 if pr>2: \n",
    "#                     us, mo = user[i].item(), movie[i].item()\n",
    "#                     if us in pred_dict:\n",
    "#                         pred_dict[us].append(mo)\n",
    "#                     else:\n",
    "#                         pred_dict[us] = [mo]\n",
    "#             val_mapk += mapk(mov_usr, pred_dict, k=10)\n",
    "#             num_users += 1 #user.shape[0]\n",
    "\n",
    "#     val_loss /= len(val_loader)\n",
    "#     val_mapk /= num_users\n",
    "#     val_rmse = sqrt(val_loss)\n",
    "\n",
    "#     print(f\"Epoch {epoch+1}/{num_epochs}, Train Loss: {train_loss:.4f}, Validation Loss: {val_loss:.4f}\")#\", Train MAP@k: {train_mapk:.4f}\")\n",
    "#     print(f\"Validation RMSE: {val_rmse:.4f}, Validation MAP@10: {val_mapk:.4f}\")\n"
   ]
  },
  {
   "cell_type": "markdown",
   "id": "bad81986-97bb-4d3e-84d6-ac501a3ffe0e",
   "metadata": {
    "tags": []
   },
   "source": [
    "TRAINING THE MODEL USING MAP@K, K=5"
   ]
  },
  {
   "cell_type": "code",
   "execution_count": 52,
   "id": "a5b1c2ca-2889-4bcf-a71a-145737b2f363",
   "metadata": {
    "tags": []
   },
   "outputs": [
    {
     "name": "stderr",
     "output_type": "stream",
     "text": [
      "Epoch 1/5 - Training: 100%|██████████| 23551/23551 [1:26:36<00:00,  4.53it/s]\n",
      "Epoch 1/5 - Validation: 100%|██████████| 5888/5888 [00:17<00:00, 332.08it/s]\n",
      "Epoch 1/5 - Validation:   0%|          | 0/5888 [00:00<?, ?it/s]/Users/anushribhansali/anaconda3/lib/python3.11/site-packages/torch/nn/modules/loss.py:535: UserWarning: Using a target size (torch.Size([512, 1])) that is different to the input size (torch.Size([512])). This will likely lead to incorrect results due to broadcasting. Please ensure they have the same size.\n",
      "  return F.mse_loss(input, target, reduction=self.reduction)\n",
      "Epoch 1/5 - Validation: 100%|█████████▉| 5886/5888 [00:16<00:00, 387.57it/s]/Users/anushribhansali/anaconda3/lib/python3.11/site-packages/torch/nn/modules/loss.py:535: UserWarning: Using a target size (torch.Size([272, 1])) that is different to the input size (torch.Size([272])). This will likely lead to incorrect results due to broadcasting. Please ensure they have the same size.\n",
      "  return F.mse_loss(input, target, reduction=self.reduction)\n",
      "Epoch 1/5 - Validation: 100%|██████████| 5888/5888 [00:16<00:00, 351.23it/s]\n"
     ]
    },
    {
     "name": "stdout",
     "output_type": "stream",
     "text": [
      "Epoch 1/5, Train Loss: 10.4878, Validation Loss: 7.5355\n",
      "Validation RMSE: 2.7451, Validation MAP@5: 0.2031\n"
     ]
    },
    {
     "name": "stderr",
     "output_type": "stream",
     "text": [
      "Epoch 2/5 - Training: 100%|██████████| 23551/23551 [1:16:36<00:00,  5.12it/s]\n",
      "Epoch 2/5 - Validation: 100%|██████████| 5888/5888 [00:17<00:00, 339.59it/s]\n",
      "Epoch 2/5 - Validation: 100%|██████████| 5888/5888 [00:19<00:00, 295.47it/s]\n"
     ]
    },
    {
     "name": "stdout",
     "output_type": "stream",
     "text": [
      "Epoch 2/5, Train Loss: 4.9833, Validation Loss: 5.1324\n",
      "Validation RMSE: 2.2655, Validation MAP@5: 0.2068\n"
     ]
    },
    {
     "name": "stderr",
     "output_type": "stream",
     "text": [
      "Epoch 3/5 - Training: 100%|██████████| 23551/23551 [1:18:18<00:00,  5.01it/s]\n",
      "Epoch 3/5 - Validation: 100%|██████████| 5888/5888 [00:24<00:00, 237.41it/s]\n",
      "Epoch 3/5 - Validation: 100%|██████████| 5888/5888 [00:28<00:00, 209.51it/s]\n"
     ]
    },
    {
     "name": "stdout",
     "output_type": "stream",
     "text": [
      "Epoch 3/5, Train Loss: 2.4500, Validation Loss: 4.2277\n",
      "Validation RMSE: 2.0561, Validation MAP@5: 0.2105\n"
     ]
    },
    {
     "name": "stderr",
     "output_type": "stream",
     "text": [
      "Epoch 4/5 - Training: 100%|██████████| 23551/23551 [1:37:39<00:00,  4.02it/s]  \n",
      "Epoch 4/5 - Validation: 100%|██████████| 5888/5888 [00:17<00:00, 331.63it/s]\n",
      "Epoch 4/5 - Validation: 100%|██████████| 5888/5888 [00:21<00:00, 272.97it/s]\n"
     ]
    },
    {
     "name": "stdout",
     "output_type": "stream",
     "text": [
      "Epoch 4/5, Train Loss: 1.6315, Validation Loss: 3.9107\n",
      "Validation RMSE: 1.9776, Validation MAP@5: 0.2122\n"
     ]
    },
    {
     "name": "stderr",
     "output_type": "stream",
     "text": [
      "Epoch 5/5 - Training: 100%|██████████| 23551/23551 [58:55<00:00,  6.66it/s]  \n",
      "Epoch 5/5 - Validation: 100%|██████████| 5888/5888 [00:17<00:00, 331.84it/s]\n",
      "Epoch 5/5 - Validation: 100%|██████████| 5888/5888 [00:22<00:00, 261.54it/s]"
     ]
    },
    {
     "name": "stdout",
     "output_type": "stream",
     "text": [
      "Epoch 5/5, Train Loss: 1.4130, Validation Loss: 3.7360\n",
      "Validation RMSE: 1.9329, Validation MAP@5: 0.2129\n"
     ]
    },
    {
     "name": "stderr",
     "output_type": "stream",
     "text": [
      "\n"
     ]
    }
   ],
   "source": [
    "from tqdm import tqdm\n",
    "# Train the model\n",
    "num_epochs = 5\n",
    "\n",
    "# Lists to store training and validation losses for each epoch\n",
    "train_losses = []\n",
    "val_losses = []\n",
    "\n",
    "# Lists to store validation metrics for each epoch\n",
    "val_mapks = []\n",
    "val_rmses = []\n",
    "for epoch in range(num_epochs):\n",
    "    model.train()\n",
    "    train_loss = 0.0\n",
    "\n",
    "    for user, movie, rating in tqdm(train_loader, desc=f\"Epoch {epoch+1}/{num_epochs} - Training\"):\n",
    "        optimizer.zero_grad()\n",
    "        user = user.long().to(device)\n",
    "        movie = movie.long().to(device)\n",
    "        rating = rating.float().view(-1, 1).to(device)\n",
    "        prediction = model(user, movie).view(-1,1)\n",
    "        loss = criterion(prediction, rating)\n",
    "        loss.backward()\n",
    "        optimizer.step()\n",
    "        train_loss += sqrt(loss.item())\n",
    "\n",
    "    train_loss /= len(train_loader)\n",
    "\n",
    "    model.eval()\n",
    "    val_loss = 0.0\n",
    "    val_mapk = 0.0\n",
    "    num_users = 0\n",
    "    mov_usr = dict()\n",
    "    with torch.no_grad():\n",
    "        for user, movie, rating in tqdm(val_loader, desc=f\"Epoch {epoch+1}/{num_epochs} - Validation\"):\n",
    "            for i, us in enumerate(user):\n",
    "                u, m, r = us.item(), movie[i].item(), rating[i].item()\n",
    "                if u not in mov_usr and r>2:\n",
    "                    mov_usr[u] = [m]\n",
    "                elif r>2:\n",
    "                    mov_usr[u].append(m)\n",
    "\n",
    "    with torch.no_grad():\n",
    "        for user, movie, rating in tqdm(val_loader, desc=f\"Epoch {epoch+1}/{num_epochs} - Validation\"):\n",
    "            user = user.long().to(device)\n",
    "            movie = movie.long().to(device)\n",
    "            rating = rating.float().view(-1, 1).to(device)\n",
    "\n",
    "            prediction = model(user, movie)\n",
    "            loss = criterion(prediction, rating)\n",
    "\n",
    "            val_loss += sqrt(loss.item())\n",
    "\n",
    "            # Calculate map@k\n",
    "            actual_ratings = rating.cpu().numpy()\n",
    "            predicted_ratings = prediction.cpu().numpy()\n",
    "            pred_dict = dict()\n",
    "            for i, pr in enumerate(predicted_ratings):\n",
    "                if pr>2: \n",
    "                    us, mo = user[i].item(), movie[i].item()\n",
    "                    if us in pred_dict:\n",
    "                        pred_dict[us].append(mo)\n",
    "                    else:\n",
    "                        pred_dict[us] = [mo]\n",
    "            val_mapk += mapk(mov_usr, pred_dict, k=5)\n",
    "            num_users += 1 #user.shape[0]\n",
    "\n",
    "    val_loss /= len(val_loader)\n",
    "    val_mapk /= num_users\n",
    "    val_rmse = sqrt(val_loss)\n",
    "    \n",
    "    train_losses.append(train_loss)\n",
    "    val_losses.append(val_loss)\n",
    "    val_mapks.append(val_mapk)\n",
    "    val_rmses.append(val_rmse)\n",
    "    \n",
    "    print(f\"Epoch {epoch+1}/{num_epochs}, Train Loss: {train_loss:.4f}, Validation Loss: {val_loss:.4f}\")#\", Train MAP@k: {train_mapk:.4f}\")\n",
    "    print(f\"Validation RMSE: {val_rmse:.4f}, Validation MAP@5: {val_mapk:.4f}\")\n"
   ]
  },
  {
   "cell_type": "markdown",
   "id": "2ea33c12-dd18-4353-8dd1-7f0086c0d81e",
   "metadata": {},
   "source": [
    "SHOWING TRAINING LOSS, VALIDATION LOSS, VALIDATION RMSE, VALIDATION MAP@5:"
   ]
  },
  {
   "cell_type": "code",
   "execution_count": 53,
   "id": "fe8745a5-f12c-4131-b35c-29d565eaa038",
   "metadata": {},
   "outputs": [
    {
     "data": {
      "text/plain": [
       "{'Train Loss:': [10.487775889192122,\n",
       "  4.983280854214332,\n",
       "  2.450031795158729,\n",
       "  1.6314785867793502,\n",
       "  1.4130377668252332],\n",
       " 'Validation Loss': 3.736048196490668,\n",
       " 'Validation RMSE': 1.9328859760706703,\n",
       " 'Validation MAP@5': 0.21291116073048144}"
      ]
     },
     "execution_count": 53,
     "metadata": {},
     "output_type": "execute_result"
    }
   ],
   "source": [
    "dict({\"Train Loss:\": train_losses, \"Validation Loss\": val_loss, \"Validation RMSE\": val_rmse, \"Validation MAP@5\": val_mapk})"
   ]
  },
  {
   "cell_type": "markdown",
   "id": "00e475a3-ac0e-4c3b-8abf-6aae5c9303c3",
   "metadata": {},
   "source": [
    "PLOTTING THE LOSSES:"
   ]
  },
  {
   "cell_type": "code",
   "execution_count": 67,
   "id": "4f1d9e75-4a8e-4475-860d-f698f0bf49d2",
   "metadata": {
    "tags": []
   },
   "outputs": [
    {
     "data": {
      "image/png": "[encoded data removed]",
      "text/plain": [
       "<Figure size 800x600 with 1 Axes>"
      ]
     },
     "metadata": {},
     "output_type": "display_data"
    },
    {
     "data": {
      "image/png": "[encoded data removed]",
      "text/plain": [
       "<Figure size 800x600 with 1 Axes>"
      ]
     },
     "metadata": {},
     "output_type": "display_data"
    }
   ],
   "source": [
    "import matplotlib.pyplot as plt\n",
    "import numpy as np\n",
    "\n",
    "# Plot the training and validation losses\n",
    "plt.figure(figsize=(8, 6))\n",
    "plt.plot(range(1, num_epochs + 1), train_losses, label='Train Loss')\n",
    "plt.plot(range(1, num_epochs + 1), val_losses, label='Validation Loss')\n",
    "plt.xlabel('Epoch (Log Scale)')\n",
    "plt.xscale('log')  # Use a logarithmic scale for the x-axis\n",
    "plt.ylabel('Loss')\n",
    "plt.title('Training and Validation Loss Over Epochs (Log Scale)')\n",
    "plt.legend()\n",
    "plt.savefig('training_validation_loss.png')\n",
    "plt.show()\n",
    "\n",
    "# Plot MAP@5 and RMSE:\n",
    "plt.figure(figsize=(8, 6))\n",
    "plt.plot(range(1, num_epochs + 1), val_rmses, label='Validation RMSE')\n",
    "plt.plot(range(1, num_epochs + 1), val_mapks, label='Validation MAP@5')\n",
    "plt.xlabel('Epoch (Log Scale)')\n",
    "plt.xscale('log')  # Use a logarithmic scale for the x-axis\n",
    "plt.ylabel('Metric Value')\n",
    "plt.title('Validation Metrics Over Epochs (Log Scale)')\n",
    "plt.legend()\n",
    "plt.savefig('validation_metrics.png')\n",
    "plt.show()"
   ]
  },
  {
   "cell_type": "markdown",
   "id": "be9c5b39-81c8-4ca4-a936-582c16bb881a",
   "metadata": {},
   "source": [
    "GENERATING RECOMMENDARIONS:"
   ]
  },
  {
   "cell_type": "code",
   "execution_count": 66,
   "id": "a3f7a782-5cb7-4d5a-8810-12b82d0687cc",
   "metadata": {
    "tags": []
   },
   "outputs": [
    {
     "name": "stdout",
     "output_type": "stream",
     "text": [
      "Movies the user has already watched:  {5888, 382, 1156, 261, 3462, 2822, 6152, 522, 10, 269, 17, 146, 2321, 3474, 21, 5526, 536, 1049, 538, 8216, 8988, 1435, 1054, 2462, 679, 1320, 3625, 6956, 173, 3519, 8130, 323, 964, 1093, 326, 2373, 1862, 3529, 4042, 456, 8143, 209, 1365, 8151, 3801, 1757, 610, 11875, 483, 104, 8171, 4977, 628, 6262, 1022}\n",
      "5 Reccomendations: [13233, 14371, 7970, 1977, 7141]\n"
     ]
    }
   ],
   "source": [
    "user_id = 72153  # Replace with the user ID you are interested in\n",
    "all_movie_ids = range(len(unique_movies))  # Assuming unique_movies contains all movie IDs\n",
    "\n",
    "# Convert to PyTorch tensors\n",
    "user_tensor = torch.tensor([user_id] * len(all_movie_ids)).to(device)\n",
    "movies_tensor = torch.tensor(all_movie_ids).to(device)\n",
    "\n",
    "# Predict ratings\n",
    "model.eval()\n",
    "with torch.no_grad():\n",
    "    predictions = model(user_tensor, movies_tensor).cpu().numpy()\n",
    "\n",
    "# Sort the predictions\n",
    "recommended_movie_ids = np.argsort(-predictions)  # IDs of movies with the highest predicted ratings\n",
    "\n",
    "# Optionally filter out movies the user has already watched\n",
    "watched_movies = set(final_data[final_data['CustomerID'] == user_id]['MovieID'])\n",
    "recommended_movie_ids = [mid for mid in recommended_movie_ids if mid not in watched_movies]\n",
    "\n",
    "# Get top N recommendations\n",
    "print(\"Movies the user has already watched: \", watched_movies)\n",
    "top_n_recommendations = recommended_movie_ids[:5]  # Top 5 recommendations\n",
    "print(\"5 Reccomendations:\", top_n_recommendations )"
   ]
  }
 ],
 "metadata": {
  "kernelspec": {
   "display_name": "Python 3 (ipykernel)",
   "language": "python",
   "name": "python3"
  },
  "language_info": {
   "codemirror_mode": {
    "name": "ipython",
    "version": 3
   },
   "file_extension": ".py",
   "mimetype": "text/x-python",
   "name": "python",
   "nbconvert_exporter": "python",
   "pygments_lexer": "ipython3",
   "version": "3.11.5"
  }
 },
 "nbformat": 4,
 "nbformat_minor": 5
}
